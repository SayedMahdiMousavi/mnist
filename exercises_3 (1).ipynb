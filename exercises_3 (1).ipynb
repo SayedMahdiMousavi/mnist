{
  "nbformat": 4,
  "nbformat_minor": 0,
  "metadata": {
    "colab": {
      "provenance": []
    },
    "kernelspec": {
      "name": "python3",
      "display_name": "Python 3"
    },
    "language_info": {
      "name": "python"
    },
    "accelerator": "GPU",
    "gpuClass": "standard"
  },
  "cells": [
    {
      "cell_type": "markdown",
      "source": [
        "با سلام تمرین شما تصحیح شد.مدلتون باز هم جا داره تا آموزشش رو کامل کنه. تعداد ایپاک ها را بیشتر کنید و همچنین ظرفیت مدل رو هم می تونین افزایش بدید. لطفا فایل  پیش بینی هم برای داده های تست رو ارسال کنید تا دقت مدلتون رو محاسبه کنم..با تشکر"
      ],
      "metadata": {
        "id": "9kR5zFfK3TjO"
      }
    },
    {
      "cell_type": "markdown",
      "source": [
        "### Sayed Mahdi Mousavi"
      ],
      "metadata": {
        "id": "58rpooadF5TT"
      }
    },
    {
      "cell_type": "code",
      "source": [
        "!pip install torchmetrics"
      ],
      "metadata": {
        "id": "ekkqwnvtDsHh",
        "colab": {
          "base_uri": "https://localhost:8080/"
        },
        "outputId": "ee3d504a-52aa-4a64-e8d3-7d786acd46f2"
      },
      "execution_count": null,
      "outputs": [
        {
          "output_type": "stream",
          "name": "stdout",
          "text": [
            "Looking in indexes: https://pypi.org/simple, https://us-python.pkg.dev/colab-wheels/public/simple/\n",
            "Requirement already satisfied: torchmetrics in /usr/local/lib/python3.8/dist-packages (0.11.1)\n",
            "Requirement already satisfied: packaging in /usr/local/lib/python3.8/dist-packages (from torchmetrics) (23.0)\n",
            "Requirement already satisfied: torch>=1.8.1 in /usr/local/lib/python3.8/dist-packages (from torchmetrics) (1.13.1+cu116)\n",
            "Requirement already satisfied: typing-extensions in /usr/local/lib/python3.8/dist-packages (from torchmetrics) (4.5.0)\n",
            "Requirement already satisfied: numpy>=1.17.2 in /usr/local/lib/python3.8/dist-packages (from torchmetrics) (1.21.6)\n"
          ]
        }
      ]
    },
    {
      "cell_type": "markdown",
      "source": [
        "# **Section 0: Imports and Install📢**"
      ],
      "metadata": {
        "id": "NOCGHT1VDzRJ"
      }
    },
    {
      "cell_type": "code",
      "source": [
        "import torch\n",
        "import torch.nn as nn\n",
        "from torch import optim\n",
        "from torch.utils.data import TensorDataset, DataLoader\n",
        "from torchmetrics import Accuracy\n",
        "\n",
        "import pandas as pd\n",
        "import matplotlib.pyplot as plt\n",
        "from sklearn.model_selection import train_test_split\n",
        "import time"
      ],
      "metadata": {
        "id": "brefFjOTDyWJ"
      },
      "execution_count": null,
      "outputs": []
    },
    {
      "cell_type": "code",
      "source": [
        "torch.manual_seed(59)"
      ],
      "metadata": {
        "colab": {
          "base_uri": "https://localhost:8080/"
        },
        "id": "cKiymaYtn8M3",
        "outputId": "6717a0f8-9998-4e1a-c50e-42b2fd4c3b0a"
      },
      "execution_count": null,
      "outputs": [
        {
          "output_type": "execute_result",
          "data": {
            "text/plain": [
              "<torch._C.Generator at 0x7efe407ead50>"
            ]
          },
          "metadata": {},
          "execution_count": 6
        }
      ]
    },
    {
      "cell_type": "markdown",
      "source": [
        "# **Section 1: Load Dataset📑**"
      ],
      "metadata": {
        "id": "DszoNltOEp7k"
      }
    },
    {
      "cell_type": "code",
      "execution_count": null,
      "metadata": {
        "id": "KhZfGbzb746q"
      },
      "outputs": [],
      "source": [
        "!cp /content/drive/MyDrive/Datasets/exercises_3_DL/train.csv /content\n",
        "!cp /content/drive/MyDrive/Datasets/exercises_3_DL/test.csv /content\n",
        "\n",
        "# or\n",
        "\n",
        "# !cp /content/drive/MyDrive/Datasets/exercises_3_DL/dataset.rar /content\n",
        "# !unzip /content/dataset.rar"
      ]
    },
    {
      "cell_type": "markdown",
      "source": [
        "## 1-1: Read Dataset"
      ],
      "metadata": {
        "id": "LZdO6rFUFJLp"
      }
    },
    {
      "cell_type": "code",
      "source": [
        "data = pd.read_csv(r'/content/train.csv')"
      ],
      "metadata": {
        "id": "UR-6BWhPA05u"
      },
      "execution_count": null,
      "outputs": []
    },
    {
      "cell_type": "markdown",
      "source": [
        "##1-2: Train_Test_Split"
      ],
      "metadata": {
        "id": "RlGddeIJI8fT"
      }
    },
    {
      "cell_type": "code",
      "source": [
        "# method 1\n",
        "X = data.drop('DEATH_EVENT', axis=1)\n",
        "y = data['DEATH_EVENT']\n",
        "\n",
        "x_train, x_valid, y_train, y_valid = train_test_split(X, y, train_size=0.8, random_state=42)\n"
      ],
      "metadata": {
        "id": "RxjzkPU1FZ9N"
      },
      "execution_count": null,
      "outputs": []
    },
    {
      "cell_type": "markdown",
      "source": [
        "##1-3: Preprocess"
      ],
      "metadata": {
        "id": "IhVsXEpcJAih"
      }
    },
    {
      "cell_type": "code",
      "source": [
        "# convert to tensor\n",
        "x_train = torch.FloatTensor(x_train.values)\n",
        "x_valid = torch.FloatTensor(x_valid.values)\n",
        "\n",
        "y_valid = torch.FloatTensor(y_valid.values)\n",
        "y_train = torch.FloatTensor(y_train.values)\n",
        "\n",
        "\n",
        "# Standardization\n",
        "mu = x_train.mean(dim=0)\n",
        "std = x_train.std(dim=0)\n",
        "\n",
        "x_train = (x_train - mu) / std\n",
        "x_valid = (x_valid - mu) / std"
      ],
      "metadata": {
        "id": "tlgilQ-EHfio"
      },
      "execution_count": null,
      "outputs": []
    },
    {
      "cell_type": "markdown",
      "source": [
        "## 1-4: Dataloader"
      ],
      "metadata": {
        "id": "Q9WZGsW4J0Pi"
      }
    },
    {
      "cell_type": "code",
      "source": [
        "train_dataset = TensorDataset(x_train, y_train)\n",
        "train_loader = DataLoader(train_dataset, batch_size=4, shuffle=True)\n",
        "\n",
        "valid_dataset = TensorDataset(x_valid, y_valid)\n",
        "valid_loader = DataLoader(valid_dataset, batch_size=4, shuffle=False)"
      ],
      "metadata": {
        "id": "GYJFT-NoJyii"
      },
      "execution_count": null,
      "outputs": []
    },
    {
      "cell_type": "markdown",
      "source": [
        "#**Section2: Define Model🧠**"
      ],
      "metadata": {
        "id": "j8ov-nB_LoL1"
      }
    },
    {
      "cell_type": "markdown",
      "source": [
        "##2-1: make your MLP Model"
      ],
      "metadata": {
        "id": "eBL3c_eqhVTJ"
      }
    },
    {
      "cell_type": "code",
      "source": [
        "in_features = 12\n",
        "out_features = 1\n",
        "h1 = 32\n",
        "h2 = 24\n",
        "\n",
        "model = nn.Sequential(nn.Linear(in_features, h1),\n",
        "                      nn.ReLU(),\n",
        "                      nn.Linear(h1, h2),\n",
        "                      nn.ReLU(),\n",
        "                      nn.Linear(h2, out_features),\n",
        "                      nn.Sigmoid())\n"
      ],
      "metadata": {
        "id": "Xv5rgNfvLjTn"
      },
      "execution_count": null,
      "outputs": []
    },
    {
      "cell_type": "markdown",
      "source": [
        "##2-2: Loss and Optimizer"
      ],
      "metadata": {
        "id": "8DRYNloShYrG"
      }
    },
    {
      "cell_type": "code",
      "source": [
        "loss_fn = nn.BCELoss()\n",
        "optimizer = optim.SGD(model.parameters(), lr=0.001)"
      ],
      "metadata": {
        "id": "uxaluJKJhZCm"
      },
      "execution_count": null,
      "outputs": []
    },
    {
      "cell_type": "markdown",
      "source": [
        "##2-3: Bias for last layer(before train)"
      ],
      "metadata": {
        "id": "KWU0vfUdhwMo"
      }
    },
    {
      "cell_type": "code",
      "source": [
        "for name, params in model.named_parameters():\n",
        "    if name == '4.bias':\n",
        "        print(params)"
      ],
      "metadata": {
        "colab": {
          "base_uri": "https://localhost:8080/"
        },
        "id": "YF-6l9Dpf-yE",
        "outputId": "21512423-1ca0-43fe-ea93-fe3b76b4af73"
      },
      "execution_count": null,
      "outputs": [
        {
          "output_type": "stream",
          "name": "stdout",
          "text": [
            "Parameter containing:\n",
            "tensor([0.1849], requires_grad=True)\n"
          ]
        }
      ]
    },
    {
      "cell_type": "markdown",
      "source": [
        "#**Section3: Device⚙️**"
      ],
      "metadata": {
        "id": "ClVotfT5h1Je"
      }
    },
    {
      "cell_type": "code",
      "source": [
        "device = 'cuda' if torch.cuda.is_available() else 'cpu'"
      ],
      "metadata": {
        "id": "Ju6czW5Sf515"
      },
      "execution_count": null,
      "outputs": []
    },
    {
      "cell_type": "code",
      "source": [
        "!nvidia-smi"
      ],
      "metadata": {
        "colab": {
          "base_uri": "https://localhost:8080/"
        },
        "id": "Y6kiXnbdh_QN",
        "outputId": "cca95f5e-a4ef-44bf-c80c-e46f53490d09"
      },
      "execution_count": null,
      "outputs": [
        {
          "output_type": "stream",
          "name": "stdout",
          "text": [
            "Wed Feb 22 09:21:17 2023       \n",
            "+-----------------------------------------------------------------------------+\n",
            "| NVIDIA-SMI 510.47.03    Driver Version: 510.47.03    CUDA Version: 11.6     |\n",
            "|-------------------------------+----------------------+----------------------+\n",
            "| GPU  Name        Persistence-M| Bus-Id        Disp.A | Volatile Uncorr. ECC |\n",
            "| Fan  Temp  Perf  Pwr:Usage/Cap|         Memory-Usage | GPU-Util  Compute M. |\n",
            "|                               |                      |               MIG M. |\n",
            "|===============================+======================+======================|\n",
            "|   0  Tesla T4            Off  | 00000000:00:04.0 Off |                    0 |\n",
            "| N/A   54C    P0    28W /  70W |      3MiB / 15360MiB |      0%      Default |\n",
            "|                               |                      |                  N/A |\n",
            "+-------------------------------+----------------------+----------------------+\n",
            "                                                                               \n",
            "+-----------------------------------------------------------------------------+\n",
            "| Processes:                                                                  |\n",
            "|  GPU   GI   CI        PID   Type   Process name                  GPU Memory |\n",
            "|        ID   ID                                                   Usage      |\n",
            "|=============================================================================|\n",
            "|  No running processes found                                                 |\n",
            "+-----------------------------------------------------------------------------+\n"
          ]
        }
      ]
    },
    {
      "cell_type": "markdown",
      "source": [
        "#**Section4: Train Model🤓**"
      ],
      "metadata": {
        "id": "ILvdEfP1iHxf"
      }
    },
    {
      "cell_type": "markdown",
      "source": [
        "##4-1:Utils"
      ],
      "metadata": {
        "id": "PsEGkjGZiNYe"
      }
    },
    {
      "cell_type": "code",
      "source": [
        "class AverageMeter(object):\n",
        "    \"\"\"Computes and stores the average and current value\"\"\"\n",
        "    def __init__(self):\n",
        "        self.reset()\n",
        "\n",
        "    def reset(self):\n",
        "        self.val = 0\n",
        "        self.avg = 0\n",
        "        self.sum = 0\n",
        "        self.count = 0\n",
        "\n",
        "    def update(self, val, n=1):\n",
        "        self.val = val\n",
        "        self.sum += val * n\n",
        "        self.count += n\n",
        "        self.avg = self.sum / self.count\n",
        "        "
      ],
      "metadata": {
        "id": "bcNb1zjBiHP_"
      },
      "execution_count": null,
      "outputs": []
    },
    {
      "cell_type": "markdown",
      "source": [
        "##4-1:Train Loop"
      ],
      "metadata": {
        "id": "WRPDzF6hiZlu"
      }
    },
    {
      "cell_type": "code",
      "source": [
        "model = model.to(device)\n",
        "\n",
        "num_epochs = 500\n",
        "\n",
        "loss_train_hist = []\n",
        "loss_valid_hist = []\n",
        "\n",
        "acc_train_hist = []\n",
        "acc_valid_hist = []\n",
        "\n",
        "since = time.time()\n",
        "for epoch in range(num_epochs):\n",
        "  loss_train = AverageMeter()\n",
        "  acc_train = Accuracy(task='binary').to(device)\n",
        "  for i, (inputs, targets) in enumerate(train_loader):\n",
        "    inputs = inputs.to(device)\n",
        "    targets = targets.to(device)\n",
        "\n",
        "    outputs = model(inputs)\n",
        "    \n",
        "    loss = loss_fn(outputs.squeeze(), targets)\n",
        "\n",
        "    loss.backward()\n",
        "    optimizer.step()\n",
        "    optimizer.zero_grad()\n",
        "\n",
        "    loss_train.update(loss.item())\n",
        "    acc_train(outputs.squeeze(), targets)\n",
        "\n",
        "  with torch.no_grad():\n",
        "    loss_valid = AverageMeter()\n",
        "    acc_valid = Accuracy(task='binary').to(device)\n",
        "    for i, (inputs, targets) in enumerate(valid_loader):\n",
        "      inputs = inputs.to(device)\n",
        "      targets = targets.to(device)\n",
        "\n",
        "      outputs = model(inputs)\n",
        "      loss = loss_fn(outputs.squeeze(), targets)\n",
        "      \n",
        "      loss_valid.update(loss.item())\n",
        "      acc_valid(outputs.squeeze(), targets)\n",
        "\n",
        "  loss_train_hist.append(loss_train.avg)\n",
        "  loss_valid_hist.append(loss_valid.avg)\n",
        "\n",
        "  acc_train_hist.append(acc_train.compute().item())\n",
        "  acc_valid_hist.append(acc_valid.compute().item())\n",
        "\n",
        "  if epoch % 10 == 0:\n",
        "    print(f'Epoch: {epoch}')\n",
        "    print(f'Train: Loss = {loss_train.avg:.2}, Acc = {acc_train.compute():.2}')\n",
        "    print(f'Valid: Loss = {loss_valid.avg:.2}, Acc = {acc_valid.compute():.2}')\n",
        "    print()\n",
        "\n",
        "\n",
        "time_elapsed = time.time() - since\n",
        "print(time_elapsed)"
      ],
      "metadata": {
        "colab": {
          "base_uri": "https://localhost:8080/"
        },
        "id": "G-dUFZUwiPf-",
        "outputId": "942cf295-f23d-4a6a-8e02-5ccb3031ca71"
      },
      "execution_count": null,
      "outputs": [
        {
          "output_type": "stream",
          "name": "stdout",
          "text": [
            "Epoch: 0\n",
            "Train: Loss = 0.74, Acc = 0.32\n",
            "Valid: Loss = 0.72, Acc = 0.32\n",
            "\n",
            "Epoch: 10\n",
            "Train: Loss = 0.69, Acc = 0.57\n",
            "Valid: Loss = 0.67, Acc = 0.62\n",
            "\n",
            "Epoch: 20\n",
            "Train: Loss = 0.65, Acc = 0.68\n",
            "Valid: Loss = 0.64, Acc = 0.7\n",
            "\n",
            "Epoch: 30\n",
            "Train: Loss = 0.63, Acc = 0.68\n",
            "Valid: Loss = 0.61, Acc = 0.7\n",
            "\n",
            "Epoch: 40\n",
            "Train: Loss = 0.61, Acc = 0.68\n",
            "Valid: Loss = 0.59, Acc = 0.7\n",
            "\n",
            "Epoch: 50\n",
            "Train: Loss = 0.59, Acc = 0.68\n",
            "Valid: Loss = 0.58, Acc = 0.7\n",
            "\n",
            "Epoch: 60\n",
            "Train: Loss = 0.58, Acc = 0.68\n",
            "Valid: Loss = 0.56, Acc = 0.7\n",
            "\n",
            "Epoch: 70\n",
            "Train: Loss = 0.57, Acc = 0.68\n",
            "Valid: Loss = 0.55, Acc = 0.7\n",
            "\n",
            "Epoch: 80\n",
            "Train: Loss = 0.56, Acc = 0.68\n",
            "Valid: Loss = 0.54, Acc = 0.7\n",
            "\n",
            "Epoch: 90\n",
            "Train: Loss = 0.55, Acc = 0.68\n",
            "Valid: Loss = 0.53, Acc = 0.7\n",
            "\n",
            "Epoch: 100\n",
            "Train: Loss = 0.54, Acc = 0.68\n",
            "Valid: Loss = 0.52, Acc = 0.7\n",
            "\n",
            "Epoch: 110\n",
            "Train: Loss = 0.53, Acc = 0.68\n",
            "Valid: Loss = 0.5, Acc = 0.7\n",
            "\n",
            "Epoch: 120\n",
            "Train: Loss = 0.52, Acc = 0.68\n",
            "Valid: Loss = 0.49, Acc = 0.7\n",
            "\n",
            "Epoch: 130\n",
            "Train: Loss = 0.51, Acc = 0.68\n",
            "Valid: Loss = 0.48, Acc = 0.7\n",
            "\n",
            "Epoch: 140\n",
            "Train: Loss = 0.5, Acc = 0.69\n",
            "Valid: Loss = 0.47, Acc = 0.7\n",
            "\n",
            "Epoch: 150\n",
            "Train: Loss = 0.49, Acc = 0.7\n",
            "Valid: Loss = 0.46, Acc = 0.72\n",
            "\n",
            "Epoch: 160\n",
            "Train: Loss = 0.48, Acc = 0.71\n",
            "Valid: Loss = 0.44, Acc = 0.72\n",
            "\n",
            "Epoch: 170\n",
            "Train: Loss = 0.47, Acc = 0.72\n",
            "Valid: Loss = 0.43, Acc = 0.72\n",
            "\n",
            "Epoch: 180\n",
            "Train: Loss = 0.46, Acc = 0.75\n",
            "Valid: Loss = 0.42, Acc = 0.76\n",
            "\n",
            "Epoch: 190\n",
            "Train: Loss = 0.46, Acc = 0.75\n",
            "Valid: Loss = 0.41, Acc = 0.76\n",
            "\n",
            "Epoch: 200\n",
            "Train: Loss = 0.45, Acc = 0.76\n",
            "Valid: Loss = 0.4, Acc = 0.78\n",
            "\n",
            "Epoch: 210\n",
            "Train: Loss = 0.44, Acc = 0.77\n",
            "Valid: Loss = 0.39, Acc = 0.78\n",
            "\n",
            "Epoch: 220\n",
            "Train: Loss = 0.43, Acc = 0.78\n",
            "Valid: Loss = 0.38, Acc = 0.8\n",
            "\n",
            "Epoch: 230\n",
            "Train: Loss = 0.42, Acc = 0.8\n",
            "Valid: Loss = 0.38, Acc = 0.8\n",
            "\n",
            "Epoch: 240\n",
            "Train: Loss = 0.42, Acc = 0.81\n",
            "Valid: Loss = 0.37, Acc = 0.82\n",
            "\n",
            "Epoch: 250\n",
            "Train: Loss = 0.41, Acc = 0.82\n",
            "Valid: Loss = 0.36, Acc = 0.86\n",
            "\n",
            "Epoch: 260\n",
            "Train: Loss = 0.41, Acc = 0.82\n",
            "Valid: Loss = 0.35, Acc = 0.88\n",
            "\n",
            "Epoch: 270\n",
            "Train: Loss = 0.4, Acc = 0.83\n",
            "Valid: Loss = 0.35, Acc = 0.88\n",
            "\n",
            "Epoch: 280\n",
            "Train: Loss = 0.39, Acc = 0.84\n",
            "Valid: Loss = 0.34, Acc = 0.88\n",
            "\n",
            "Epoch: 290\n",
            "Train: Loss = 0.39, Acc = 0.84\n",
            "Valid: Loss = 0.33, Acc = 0.86\n",
            "\n",
            "Epoch: 300\n",
            "Train: Loss = 0.38, Acc = 0.83\n",
            "Valid: Loss = 0.33, Acc = 0.86\n",
            "\n",
            "Epoch: 310\n",
            "Train: Loss = 0.38, Acc = 0.85\n",
            "Valid: Loss = 0.32, Acc = 0.88\n",
            "\n",
            "Epoch: 320\n",
            "Train: Loss = 0.37, Acc = 0.85\n",
            "Valid: Loss = 0.32, Acc = 0.9\n",
            "\n",
            "Epoch: 330\n",
            "Train: Loss = 0.37, Acc = 0.86\n",
            "Valid: Loss = 0.31, Acc = 0.9\n",
            "\n",
            "Epoch: 340\n",
            "Train: Loss = 0.36, Acc = 0.86\n",
            "Valid: Loss = 0.31, Acc = 0.88\n",
            "\n",
            "Epoch: 350\n",
            "Train: Loss = 0.36, Acc = 0.87\n",
            "Valid: Loss = 0.3, Acc = 0.88\n",
            "\n",
            "Epoch: 360\n",
            "Train: Loss = 0.35, Acc = 0.87\n",
            "Valid: Loss = 0.3, Acc = 0.88\n",
            "\n",
            "Epoch: 370\n",
            "Train: Loss = 0.35, Acc = 0.87\n",
            "Valid: Loss = 0.29, Acc = 0.88\n",
            "\n",
            "Epoch: 380\n",
            "Train: Loss = 0.35, Acc = 0.86\n",
            "Valid: Loss = 0.29, Acc = 0.88\n",
            "\n",
            "Epoch: 390\n",
            "Train: Loss = 0.34, Acc = 0.86\n",
            "Valid: Loss = 0.28, Acc = 0.88\n",
            "\n",
            "Epoch: 400\n",
            "Train: Loss = 0.34, Acc = 0.86\n",
            "Valid: Loss = 0.28, Acc = 0.88\n",
            "\n",
            "Epoch: 410\n",
            "Train: Loss = 0.34, Acc = 0.86\n",
            "Valid: Loss = 0.28, Acc = 0.88\n",
            "\n",
            "Epoch: 420\n",
            "Train: Loss = 0.33, Acc = 0.86\n",
            "Valid: Loss = 0.28, Acc = 0.9\n",
            "\n",
            "Epoch: 430\n",
            "Train: Loss = 0.33, Acc = 0.86\n",
            "Valid: Loss = 0.27, Acc = 0.9\n",
            "\n",
            "Epoch: 440\n",
            "Train: Loss = 0.33, Acc = 0.86\n",
            "Valid: Loss = 0.27, Acc = 0.9\n",
            "\n",
            "Epoch: 450\n",
            "Train: Loss = 0.32, Acc = 0.87\n",
            "Valid: Loss = 0.27, Acc = 0.9\n",
            "\n",
            "Epoch: 460\n",
            "Train: Loss = 0.32, Acc = 0.87\n",
            "Valid: Loss = 0.27, Acc = 0.9\n",
            "\n",
            "Epoch: 470\n",
            "Train: Loss = 0.32, Acc = 0.87\n",
            "Valid: Loss = 0.27, Acc = 0.9\n",
            "\n",
            "Epoch: 480\n",
            "Train: Loss = 0.32, Acc = 0.87\n",
            "Valid: Loss = 0.27, Acc = 0.9\n",
            "\n",
            "Epoch: 490\n",
            "Train: Loss = 0.31, Acc = 0.88\n",
            "Valid: Loss = 0.26, Acc = 0.9\n",
            "\n",
            "83.54786372184753\n"
          ]
        }
      ]
    },
    {
      "cell_type": "markdown",
      "source": [
        "#**Section5:Result📈**"
      ],
      "metadata": {
        "id": "9u4RAgPvo1uH"
      }
    },
    {
      "cell_type": "markdown",
      "source": [
        "##5-1:Plot loss and acc"
      ],
      "metadata": {
        "id": "CaVubF-Eo6Xu"
      }
    },
    {
      "cell_type": "code",
      "source": [
        "plt.plot(range(num_epochs), loss_train_hist, 'r-', label='Train Loss')\n",
        "plt.plot(range(num_epochs), loss_valid_hist, 'b-', label='Validation Loss')\n",
        "plt.plot(range(num_epochs), acc_train_hist, 'r-', label='Train Accuracy')\n",
        "plt.plot(range(num_epochs), acc_valid_hist, 'b-', label='Validation Accuracy')\n",
        "\n",
        "plt.xlabel('Epoch')\n",
        "plt.ylabel('Acc')\n",
        "plt.grid(True)\n",
        "plt.legend()"
      ],
      "metadata": {
        "colab": {
          "base_uri": "https://localhost:8080/",
          "height": 296
        },
        "id": "Xi-p70MAo16e",
        "outputId": "e822c83a-7470-41b7-f087-2a68350fadb6"
      },
      "execution_count": null,
      "outputs": [
        {
          "output_type": "execute_result",
          "data": {
            "text/plain": [
              "<matplotlib.legend.Legend at 0x7efd962a0a60>"
            ]
          },
          "metadata": {},
          "execution_count": 21
        },
        {
          "output_type": "display_data",
          "data": {
            "text/plain": [
              "<Figure size 432x288 with 1 Axes>"
            ],
            "image/png": "[encoded data removed]"
          },
          "metadata": {
            "needs_background": "light"
          }
        }
      ]
    },
    {
      "cell_type": "markdown",
      "source": [
        "## plot loss_epoch"
      ],
      "metadata": {
        "id": "LEJov_rFpZ6e"
      }
    },
    {
      "cell_type": "code",
      "source": [
        "plt.plot(range(num_epochs), loss_train_hist, 'r-', label='Train')\n",
        "plt.plot(range(num_epochs), loss_valid_hist, 'b-', label='Validation')\n",
        "\n",
        "plt.xlabel('Epoch')\n",
        "plt.ylabel('Loss')\n",
        "plt.grid(True)\n",
        "plt.legend()"
      ],
      "metadata": {
        "colab": {
          "base_uri": "https://localhost:8080/",
          "height": 296
        },
        "id": "RFeyLm4vpaJm",
        "outputId": "9d62d636-1ba3-48b4-f1a4-f0fbda004dcb"
      },
      "execution_count": null,
      "outputs": [
        {
          "output_type": "execute_result",
          "data": {
            "text/plain": [
              "<matplotlib.legend.Legend at 0x7efd7df83c70>"
            ]
          },
          "metadata": {},
          "execution_count": 22
        },
        {
          "output_type": "display_data",
          "data": {
            "text/plain": [
              "<Figure size 432x288 with 1 Axes>"
            ],
            "image/png": "[encoded data removed]"
          },
          "metadata": {
            "needs_background": "light"
          }
        }
      ]
    },
    {
      "cell_type": "markdown",
      "source": [
        "##plot acc_epoch"
      ],
      "metadata": {
        "id": "F68PpW4Ophwr"
      }
    },
    {
      "cell_type": "code",
      "source": [
        "plt.plot(range(num_epochs), acc_train_hist, 'r-', label='Train')\n",
        "plt.plot(range(num_epochs), acc_valid_hist, 'b-', label='Validation')\n",
        "\n",
        "plt.xlabel('Epoch')\n",
        "plt.ylabel('Accuracy')\n",
        "plt.grid(True)\n",
        "plt.legend()"
      ],
      "metadata": {
        "id": "fCHMPYIZphFL",
        "colab": {
          "base_uri": "https://localhost:8080/",
          "height": 296
        },
        "outputId": "1bcc5303-328c-4f1b-b1c6-ead4745708f7"
      },
      "execution_count": null,
      "outputs": [
        {
          "output_type": "execute_result",
          "data": {
            "text/plain": [
              "<matplotlib.legend.Legend at 0x7efd7da9faf0>"
            ]
          },
          "metadata": {},
          "execution_count": 23
        },
        {
          "output_type": "display_data",
          "data": {
            "text/plain": [
              "<Figure size 432x288 with 1 Axes>"
            ],
            "image/png": "[encoded data removed]"
          },
          "metadata": {
            "needs_background": "light"
          }
        }
      ]
    },
    {
      "cell_type": "markdown",
      "source": [
        "##5-2:Count param"
      ],
      "metadata": {
        "id": "hRJ9McdI4Fcd"
      }
    },
    {
      "cell_type": "code",
      "source": [
        "count_parameters = torch.tensor([torch.numel(params) for params in model.parameters()])\n",
        "\n",
        "print(f'Number of parameters in each layer: {count_parameters} --- Total parameters: {count_parameters.sum()}')"
      ],
      "metadata": {
        "id": "Qxa5g2o6o9AE",
        "colab": {
          "base_uri": "https://localhost:8080/"
        },
        "outputId": "e9d97d80-eb70-40e2-f50f-372f36c797fb"
      },
      "execution_count": null,
      "outputs": [
        {
          "output_type": "stream",
          "name": "stdout",
          "text": [
            "Number of parameters in each layer: tensor([384,  32, 768,  24,  24,   1]) --- Total parameters: 1233\n"
          ]
        }
      ]
    },
    {
      "cell_type": "markdown",
      "source": [
        "##5-3: Bias for last layer(after train)"
      ],
      "metadata": {
        "id": "AKphDxw25Q9z"
      }
    },
    {
      "cell_type": "code",
      "source": [
        "for name, params in model.named_parameters():\n",
        "    if name == '4.bias':\n",
        "        print(params)\n",
        "\n",
        "\n",
        "\"\"\" \n",
        "\n",
        "Bias for last layer(before train): [0.1849]\n",
        "\n",
        "Bias for last layer(after train): [0.5390]\n",
        "\n",
        "\"\"\""
      ],
      "metadata": {
        "colab": {
          "base_uri": "https://localhost:8080/"
        },
        "id": "jkhThNhi4nPr",
        "outputId": "4f6f4b96-e7c5-40f9-ba9c-ff78ee793b02"
      },
      "execution_count": null,
      "outputs": [
        {
          "output_type": "stream",
          "name": "stdout",
          "text": [
            "Parameter containing:\n",
            "tensor([0.5390], device='cuda:0', requires_grad=True)\n"
          ]
        }
      ]
    },
    {
      "cell_type": "markdown",
      "source": [
        "#**Section6: Save and Load Model💰**"
      ],
      "metadata": {
        "id": "lDrv5hXq55Pz"
      }
    },
    {
      "cell_type": "markdown",
      "source": [
        "##6-1: Save"
      ],
      "metadata": {
        "id": "duRzIXSO57fq"
      }
    },
    {
      "cell_type": "code",
      "source": [
        "torch.save(model, 'model.pth')"
      ],
      "metadata": {
        "id": "9ptJC1LD5T_b"
      },
      "execution_count": null,
      "outputs": []
    },
    {
      "cell_type": "markdown",
      "source": [
        "##6-2: Load"
      ],
      "metadata": {
        "id": "GxhuuXMc59ja"
      }
    },
    {
      "cell_type": "code",
      "source": [
        "mymodel = torch.load('model.pth')\n",
        "mymodel"
      ],
      "metadata": {
        "colab": {
          "base_uri": "https://localhost:8080/"
        },
        "id": "lE_8oCSY5-CC",
        "outputId": "80b14052-1fd4-43d9-e94a-76f136263772"
      },
      "execution_count": null,
      "outputs": [
        {
          "output_type": "execute_result",
          "data": {
            "text/plain": [
              "Sequential(\n",
              "  (0): Linear(in_features=12, out_features=32, bias=True)\n",
              "  (1): ReLU()\n",
              "  (2): Linear(in_features=32, out_features=24, bias=True)\n",
              "  (3): ReLU()\n",
              "  (4): Linear(in_features=24, out_features=1, bias=True)\n",
              "  (5): Sigmoid()\n",
              ")"
            ]
          },
          "metadata": {},
          "execution_count": 27
        }
      ]
    },
    {
      "cell_type": "markdown",
      "source": [
        "#**Section7: Model Prediction🩺**"
      ],
      "metadata": {
        "id": "_3eilt015_ti"
      }
    },
    {
      "cell_type": "markdown",
      "source": [
        "##7-1: Use test.csv"
      ],
      "metadata": {
        "id": "4pcl8H1dCJXX"
      }
    },
    {
      "cell_type": "code",
      "source": [
        "data_test = pd.read_csv(r'/content/test.csv')\n",
        "\n",
        "#convert to tensor\n",
        "data_test = torch.FloatTensor(data_test.values)\n",
        "\n",
        "# Standardization\n",
        "data_test = (data_test - mu) / std\n"
      ],
      "metadata": {
        "id": "xGI7_P276AC6"
      },
      "execution_count": null,
      "outputs": []
    },
    {
      "cell_type": "code",
      "source": [
        "mymodel.eval()\n",
        "with torch.no_grad():    \n",
        "    data_test = data_test.to(device)\n",
        "    outputs_test_data = mymodel(data_test)\n",
        "\n",
        "print(outputs_test_data)"
      ],
      "metadata": {
        "id": "A0nAEFtz7GPY",
        "colab": {
          "base_uri": "https://localhost:8080/"
        },
        "outputId": "7a7ebe42-36f7-4730-eb9b-a8c66be65766"
      },
      "execution_count": null,
      "outputs": [
        {
          "output_type": "stream",
          "name": "stdout",
          "text": [
            "tensor([[8.5241e-01],\n",
            "        [8.8856e-01],\n",
            "        [6.7861e-01],\n",
            "        [7.9908e-01],\n",
            "        [7.8752e-01],\n",
            "        [4.2926e-01],\n",
            "        [4.4875e-01],\n",
            "        [7.0859e-01],\n",
            "        [7.4243e-01],\n",
            "        [3.7938e-01],\n",
            "        [5.8999e-01],\n",
            "        [2.3835e-01],\n",
            "        [6.3873e-01],\n",
            "        [8.2891e-01],\n",
            "        [6.8937e-01],\n",
            "        [2.8031e-01],\n",
            "        [2.0328e-01],\n",
            "        [4.3835e-03],\n",
            "        [5.1665e-01],\n",
            "        [1.2397e-03],\n",
            "        [1.6279e-02],\n",
            "        [1.5145e-01],\n",
            "        [6.3795e-02],\n",
            "        [9.9053e-02],\n",
            "        [5.0100e-03],\n",
            "        [9.1414e-03],\n",
            "        [2.5532e-02],\n",
            "        [6.1439e-04],\n",
            "        [2.2082e-03],\n",
            "        [2.8708e-01],\n",
            "        [3.1275e-01],\n",
            "        [2.9763e-02],\n",
            "        [1.3601e-01],\n",
            "        [1.0646e-01],\n",
            "        [4.7546e-01],\n",
            "        [1.8151e-01],\n",
            "        [4.3622e-01],\n",
            "        [7.3065e-01],\n",
            "        [8.7688e-01],\n",
            "        [8.1176e-01],\n",
            "        [8.4248e-01],\n",
            "        [8.1780e-01],\n",
            "        [3.9199e-01],\n",
            "        [1.5209e-01],\n",
            "        [8.0668e-01],\n",
            "        [1.1963e-02],\n",
            "        [1.4349e-02],\n",
            "        [9.9814e-03],\n",
            "        [2.8416e-01]], device='cuda:0')\n"
          ]
        }
      ]
    },
    {
      "cell_type": "markdown",
      "source": [
        "##7-2 Make predictions.csv file"
      ],
      "metadata": {
        "id": "LL8EdOwzCNdW"
      }
    },
    {
      "cell_type": "code",
      "source": [
        "df_test = [items.item() for idx, items in enumerate(outputs_test_data)]\n",
        "\n",
        "predictions = pd.DataFrame(df_test, columns = ['preds'])\n",
        "predictions.to_csv('predictions.csv')\n",
        "\n",
        "predictions"
      ],
      "metadata": {
        "id": "6dbO0i7N_nWO",
        "colab": {
          "base_uri": "https://localhost:8080/",
          "height": 1000
        },
        "outputId": "9eb832fa-3da9-43e0-e570-ff3ed5e6cdcb"
      },
      "execution_count": null,
      "outputs": [
        {
          "output_type": "execute_result",
          "data": {
            "text/plain": [
              "       preds\n",
              "0   0.852407\n",
              "1   0.888557\n",
              "2   0.678608\n",
              "3   0.799075\n",
              "4   0.787519\n",
              "5   0.429262\n",
              "6   0.448747\n",
              "7   0.708588\n",
              "8   0.742432\n",
              "9   0.379375\n",
              "10  0.589992\n",
              "11  0.238348\n",
              "12  0.638733\n",
              "13  0.828912\n",
              "14  0.689373\n",
              "15  0.280311\n",
              "16  0.203282\n",
              "17  0.004383\n",
              "18  0.516649\n",
              "19  0.001240\n",
              "20  0.016279\n",
              "21  0.151451\n",
              "22  0.063795\n",
              "23  0.099053\n",
              "24  0.005010\n",
              "25  0.009141\n",
              "26  0.025532\n",
              "27  0.000614\n",
              "28  0.002208\n",
              "29  0.287078\n",
              "30  0.312752\n",
              "31  0.029763\n",
              "32  0.136007\n",
              "33  0.106464\n",
              "34  0.475459\n",
              "35  0.181506\n",
              "36  0.436216\n",
              "37  0.730648\n",
              "38  0.876885\n",
              "39  0.811759\n",
              "40  0.842484\n",
              "41  0.817797\n",
              "42  0.391993\n",
              "43  0.152093\n",
              "44  0.806681\n",
              "45  0.011963\n",
              "46  0.014349\n",
              "47  0.009981\n",
              "48  0.284157"
            ],
            "text/html": [
              "\n",
              "  <div id=\"df-d3cb011b-2935-437b-8466-5b2fa8bfa060\">\n",
              "    <div class=\"colab-df-container\">\n",
              "      <div>\n",
              "<style scoped>\n",
              "    .dataframe tbody tr th:only-of-type {\n",
              "        vertical-align: middle;\n",
              "    }\n",
              "\n",
              "    .dataframe tbody tr th {\n",
              "        vertical-align: top;\n",
              "    }\n",
              "\n",
              "    .dataframe thead th {\n",
              "        text-align: right;\n",
              "    }\n",
              "</style>\n",
              "<table border=\"1\" class=\"dataframe\">\n",
              "  <thead>\n",
              "    <tr style=\"text-align: right;\">\n",
              "      <th></th>\n",
              "      <th>preds</th>\n",
              "    </tr>\n",
              "  </thead>\n",
              "  <tbody>\n",
              "    <tr>\n",
              "      <th>0</th>\n",
              "      <td>0.852407</td>\n",
              "    </tr>\n",
              "    <tr>\n",
              "      <th>1</th>\n",
              "      <td>0.888557</td>\n",
              "    </tr>\n",
              "    <tr>\n",
              "      <th>2</th>\n",
              "      <td>0.678608</td>\n",
              "    </tr>\n",
              "    <tr>\n",
              "      <th>3</th>\n",
              "      <td>0.799075</td>\n",
              "    </tr>\n",
              "    <tr>\n",
              "      <th>4</th>\n",
              "      <td>0.787519</td>\n",
              "    </tr>\n",
              "    <tr>\n",
              "      <th>5</th>\n",
              "      <td>0.429262</td>\n",
              "    </tr>\n",
              "    <tr>\n",
              "      <th>6</th>\n",
              "      <td>0.448747</td>\n",
              "    </tr>\n",
              "    <tr>\n",
              "      <th>7</th>\n",
              "      <td>0.708588</td>\n",
              "    </tr>\n",
              "    <tr>\n",
              "      <th>8</th>\n",
              "      <td>0.742432</td>\n",
              "    </tr>\n",
              "    <tr>\n",
              "      <th>9</th>\n",
              "      <td>0.379375</td>\n",
              "    </tr>\n",
              "    <tr>\n",
              "      <th>10</th>\n",
              "      <td>0.589992</td>\n",
              "    </tr>\n",
              "    <tr>\n",
              "      <th>11</th>\n",
              "      <td>0.238348</td>\n",
              "    </tr>\n",
              "    <tr>\n",
              "      <th>12</th>\n",
              "      <td>0.638733</td>\n",
              "    </tr>\n",
              "    <tr>\n",
              "      <th>13</th>\n",
              "      <td>0.828912</td>\n",
              "    </tr>\n",
              "    <tr>\n",
              "      <th>14</th>\n",
              "      <td>0.689373</td>\n",
              "    </tr>\n",
              "    <tr>\n",
              "      <th>15</th>\n",
              "      <td>0.280311</td>\n",
              "    </tr>\n",
              "    <tr>\n",
              "      <th>16</th>\n",
              "      <td>0.203282</td>\n",
              "    </tr>\n",
              "    <tr>\n",
              "      <th>17</th>\n",
              "      <td>0.004383</td>\n",
              "    </tr>\n",
              "    <tr>\n",
              "      <th>18</th>\n",
              "      <td>0.516649</td>\n",
              "    </tr>\n",
              "    <tr>\n",
              "      <th>19</th>\n",
              "      <td>0.001240</td>\n",
              "    </tr>\n",
              "    <tr>\n",
              "      <th>20</th>\n",
              "      <td>0.016279</td>\n",
              "    </tr>\n",
              "    <tr>\n",
              "      <th>21</th>\n",
              "      <td>0.151451</td>\n",
              "    </tr>\n",
              "    <tr>\n",
              "      <th>22</th>\n",
              "      <td>0.063795</td>\n",
              "    </tr>\n",
              "    <tr>\n",
              "      <th>23</th>\n",
              "      <td>0.099053</td>\n",
              "    </tr>\n",
              "    <tr>\n",
              "      <th>24</th>\n",
              "      <td>0.005010</td>\n",
              "    </tr>\n",
              "    <tr>\n",
              "      <th>25</th>\n",
              "      <td>0.009141</td>\n",
              "    </tr>\n",
              "    <tr>\n",
              "      <th>26</th>\n",
              "      <td>0.025532</td>\n",
              "    </tr>\n",
              "    <tr>\n",
              "      <th>27</th>\n",
              "      <td>0.000614</td>\n",
              "    </tr>\n",
              "    <tr>\n",
              "      <th>28</th>\n",
              "      <td>0.002208</td>\n",
              "    </tr>\n",
              "    <tr>\n",
              "      <th>29</th>\n",
              "      <td>0.287078</td>\n",
              "    </tr>\n",
              "    <tr>\n",
              "      <th>30</th>\n",
              "      <td>0.312752</td>\n",
              "    </tr>\n",
              "    <tr>\n",
              "      <th>31</th>\n",
              "      <td>0.029763</td>\n",
              "    </tr>\n",
              "    <tr>\n",
              "      <th>32</th>\n",
              "      <td>0.136007</td>\n",
              "    </tr>\n",
              "    <tr>\n",
              "      <th>33</th>\n",
              "      <td>0.106464</td>\n",
              "    </tr>\n",
              "    <tr>\n",
              "      <th>34</th>\n",
              "      <td>0.475459</td>\n",
              "    </tr>\n",
              "    <tr>\n",
              "      <th>35</th>\n",
              "      <td>0.181506</td>\n",
              "    </tr>\n",
              "    <tr>\n",
              "      <th>36</th>\n",
              "      <td>0.436216</td>\n",
              "    </tr>\n",
              "    <tr>\n",
              "      <th>37</th>\n",
              "      <td>0.730648</td>\n",
              "    </tr>\n",
              "    <tr>\n",
              "      <th>38</th>\n",
              "      <td>0.876885</td>\n",
              "    </tr>\n",
              "    <tr>\n",
              "      <th>39</th>\n",
              "      <td>0.811759</td>\n",
              "    </tr>\n",
              "    <tr>\n",
              "      <th>40</th>\n",
              "      <td>0.842484</td>\n",
              "    </tr>\n",
              "    <tr>\n",
              "      <th>41</th>\n",
              "      <td>0.817797</td>\n",
              "    </tr>\n",
              "    <tr>\n",
              "      <th>42</th>\n",
              "      <td>0.391993</td>\n",
              "    </tr>\n",
              "    <tr>\n",
              "      <th>43</th>\n",
              "      <td>0.152093</td>\n",
              "    </tr>\n",
              "    <tr>\n",
              "      <th>44</th>\n",
              "      <td>0.806681</td>\n",
              "    </tr>\n",
              "    <tr>\n",
              "      <th>45</th>\n",
              "      <td>0.011963</td>\n",
              "    </tr>\n",
              "    <tr>\n",
              "      <th>46</th>\n",
              "      <td>0.014349</td>\n",
              "    </tr>\n",
              "    <tr>\n",
              "      <th>47</th>\n",
              "      <td>0.009981</td>\n",
              "    </tr>\n",
              "    <tr>\n",
              "      <th>48</th>\n",
              "      <td>0.284157</td>\n",
              "    </tr>\n",
              "  </tbody>\n",
              "</table>\n",
              "</div>\n",
              "      <button class=\"colab-df-convert\" onclick=\"convertToInteractive('df-d3cb011b-2935-437b-8466-5b2fa8bfa060')\"\n",
              "              title=\"Convert this dataframe to an interactive table.\"\n",
              "              style=\"display:none;\">\n",
              "        \n",
              "  <svg xmlns=\"http://www.w3.org/2000/svg\" height=\"24px\"viewBox=\"0 0 24 24\"\n",
              "       width=\"24px\">\n",
              "    <path d=\"M0 0h24v24H0V0z\" fill=\"none\"/>\n",
              "    <path d=\"M18.56 5.44l.94 2.06.94-2.06 2.06-.94-2.06-.94-.94-2.06-.94 2.06-2.06.94zm-11 1L8.5 8.5l.94-2.06 2.06-.94-2.06-.94L8.5 2.5l-.94 2.06-2.06.94zm10 10l.94 2.06.94-2.06 2.06-.94-2.06-.94-.94-2.06-.94 2.06-2.06.94z\"/><path d=\"M17.41 7.96l-1.37-1.37c-.4-.4-.92-.59-1.43-.59-.52 0-1.04.2-1.43.59L10.3 9.45l-7.72 7.72c-.78.78-.78 2.05 0 2.83L4 21.41c.39.39.9.59 1.41.59.51 0 1.02-.2 1.41-.59l7.78-7.78 2.81-2.81c.8-.78.8-2.07 0-2.86zM5.41 20L4 18.59l7.72-7.72 1.47 1.35L5.41 20z\"/>\n",
              "  </svg>\n",
              "      </button>\n",
              "      \n",
              "  <style>\n",
              "    .colab-df-container {\n",
              "      display:flex;\n",
              "      flex-wrap:wrap;\n",
              "      gap: 12px;\n",
              "    }\n",
              "\n",
              "    .colab-df-convert {\n",
              "      background-color: #E8F0FE;\n",
              "      border: none;\n",
              "      border-radius: 50%;\n",
              "      cursor: pointer;\n",
              "      display: none;\n",
              "      fill: #1967D2;\n",
              "      height: 32px;\n",
              "      padding: 0 0 0 0;\n",
              "      width: 32px;\n",
              "    }\n",
              "\n",
              "    .colab-df-convert:hover {\n",
              "      background-color: #E2EBFA;\n",
              "      box-shadow: 0px 1px 2px rgba(60, 64, 67, 0.3), 0px 1px 3px 1px rgba(60, 64, 67, 0.15);\n",
              "      fill: #174EA6;\n",
              "    }\n",
              "\n",
              "    [theme=dark] .colab-df-convert {\n",
              "      background-color: #3B4455;\n",
              "      fill: #D2E3FC;\n",
              "    }\n",
              "\n",
              "    [theme=dark] .colab-df-convert:hover {\n",
              "      background-color: #434B5C;\n",
              "      box-shadow: 0px 1px 3px 1px rgba(0, 0, 0, 0.15);\n",
              "      filter: drop-shadow(0px 1px 2px rgba(0, 0, 0, 0.3));\n",
              "      fill: #FFFFFF;\n",
              "    }\n",
              "  </style>\n",
              "\n",
              "      <script>\n",
              "        const buttonEl =\n",
              "          document.querySelector('#df-d3cb011b-2935-437b-8466-5b2fa8bfa060 button.colab-df-convert');\n",
              "        buttonEl.style.display =\n",
              "          google.colab.kernel.accessAllowed ? 'block' : 'none';\n",
              "\n",
              "        async function convertToInteractive(key) {\n",
              "          const element = document.querySelector('#df-d3cb011b-2935-437b-8466-5b2fa8bfa060');\n",
              "          const dataTable =\n",
              "            await google.colab.kernel.invokeFunction('convertToInteractive',\n",
              "                                                     [key], {});\n",
              "          if (!dataTable) return;\n",
              "\n",
              "          const docLinkHtml = 'Like what you see? Visit the ' +\n",
              "            '<a target=\"_blank\" href=https://colab.research.google.com/notebooks/data_table.ipynb>data table notebook</a>'\n",
              "            + ' to learn more about interactive tables.';\n",
              "          element.innerHTML = '';\n",
              "          dataTable['output_type'] = 'display_data';\n",
              "          await google.colab.output.renderOutput(dataTable, element);\n",
              "          const docLink = document.createElement('div');\n",
              "          docLink.innerHTML = docLinkHtml;\n",
              "          element.appendChild(docLink);\n",
              "        }\n",
              "      </script>\n",
              "    </div>\n",
              "  </div>\n",
              "  "
            ]
          },
          "metadata": {},
          "execution_count": 33
        }
      ]
    }
  ]
}